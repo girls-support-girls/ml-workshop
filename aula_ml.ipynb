{
 "cells": [
  {
   "cell_type": "code",
   "execution_count": null,
   "metadata": {},
   "outputs": [],
   "source": [
    "from IPython.core.interactiveshell import InteractiveShell\n",
    "InteractiveShell.ast_node_interactivity = \"all\""
   ]
  },
  {
   "cell_type": "code",
   "execution_count": null,
   "metadata": {},
   "outputs": [],
   "source": [
    "import numpy as np\n",
    "import pandas as pd\n",
    "from sklearn import dummy, metrics, neighbors, svm\n",
    "from sklearn.model_selection import train_test_split"
   ]
  },
  {
   "cell_type": "markdown",
   "metadata": {},
   "source": [
    "# Introdução ao Aprendizado de Máquina"
   ]
  },
  {
   "cell_type": "markdown",
   "metadata": {},
   "source": [
    "## Trabalhando com dados"
   ]
  },
  {
   "cell_type": "markdown",
   "metadata": {},
   "source": [
    "### Carregando os datasets\n",
    "\n",
    "Nós iremos usar 2 datasets do mesmo tema, com propósitos diferentes=. `Weather` é um dataset educacional (composto por dados fictícios) amplamente usado para ensinar conceitos de aprendizado de máquina. Ele contém 14 instâncias, 4 features e é considerado um dataset de classificação binária."
   ]
  },
  {
   "cell_type": "code",
   "execution_count": null,
   "metadata": {},
   "outputs": [],
   "source": [
    "weather_nominal = pd.read_csv('./weather.nominal.csv')\n",
    "\n",
    "weather_numeric = pd.read_csv('./weather.csv')\n",
    "\n",
    "weather_nominal\n",
    "weather_numeric"
   ]
  },
  {
   "cell_type": "markdown",
   "metadata": {},
   "source": [
    "Conferindo os valores únicos em colunas categóricas:"
   ]
  },
  {
   "cell_type": "code",
   "execution_count": null,
   "metadata": {},
   "outputs": [],
   "source": [
    "print('Outlook:', weather_nominal.outlook.unique())\n",
    "print('Temperature:', weather_nominal.temperature.unique())\n",
    "print('Humidity:', weather_nominal.humidity.unique())\n",
    "print('Windy:', weather_nominal.windy.unique())\n",
    "print('Play:', weather_nominal.play.unique())"
   ]
  },
  {
   "cell_type": "markdown",
   "metadata": {},
   "source": [
    "Mostrando dataset com `head` e `tail` (bom para datasets extensos)."
   ]
  },
  {
   "cell_type": "code",
   "execution_count": null,
   "metadata": {},
   "outputs": [],
   "source": [
    "weather_nominal.head()\n",
    "weather_numeric.tail()"
   ]
  },
  {
   "cell_type": "markdown",
   "metadata": {},
   "source": [
    "### Transformando os dados categóricos em numéricos"
   ]
  },
  {
   "cell_type": "code",
   "execution_count": null,
   "metadata": {},
   "outputs": [],
   "source": [
    "# Mudando o tipo das colunas categóricas\n",
    "weather_numeric['outlook'] = weather_numeric['outlook'].astype('category')\n",
    "weather_numeric['windy'] = weather_numeric['windy'].astype('category')\n",
    "weather_numeric['play'] = weather_numeric['play'].astype('category')\n",
    "\n",
    "# Aplicando enconding às colunas selecionadas\n",
    "cat_columns = weather_numeric.select_dtypes(['category']).columns\n",
    "weather_numeric[cat_columns] = weather_numeric[cat_columns].apply(lambda x: x.cat.codes)\n",
    "weather_numeric.head()"
   ]
  },
  {
   "cell_type": "markdown",
   "metadata": {},
   "source": [
    "### Dividindo datasets em treino e teste"
   ]
  },
  {
   "cell_type": "code",
   "execution_count": null,
   "metadata": {},
   "outputs": [],
   "source": [
    "X_nominal_train, X_nominal_test, y_nominal_train, y_nominal_test = train_test_split(\n",
    "    weather_nominal.iloc[:, :-1], \n",
    "    weather_nominal.iloc[:, -1], \n",
    "    test_size=0.3\n",
    ")\n",
    "\n",
    "X_nominal_train\n",
    "X_nominal_test\n",
    "y_nominal_train\n",
    "y_nominal_test"
   ]
  },
  {
   "cell_type": "code",
   "execution_count": null,
   "metadata": {},
   "outputs": [],
   "source": [
    "X_numeric_train, X_numeric_test, y_numeric_train, y_numeric_test = train_test_split(\n",
    "    weather_numeric.iloc[:, :-1], \n",
    "    weather_numeric.iloc[:, -1], \n",
    "    test_size=0.3\n",
    ")\n",
    "\n",
    "X_numeric_train\n",
    "X_numeric_test\n",
    "y_numeric_train\n",
    "y_numeric_test"
   ]
  },
  {
   "cell_type": "markdown",
   "metadata": {},
   "source": [
    "## Modelos"
   ]
  },
  {
   "cell_type": "markdown",
   "metadata": {},
   "source": [
    "### Classificação\n",
    "\n",
    "Usando o KNN para classificar as instâncias categóricas do `Weather`."
   ]
  },
  {
   "cell_type": "code",
   "execution_count": null,
   "metadata": {},
   "outputs": [],
   "source": [
    "classification = naive_bayes.MultinomialNB()\n",
    "classification.fit(X_numeric_train, y_numeric_train)"
   ]
  },
  {
   "cell_type": "markdown",
   "metadata": {},
   "source": [
    "### Regressão\n",
    "\n",
    "Usando o SVM para fazer a regressão das instâncias numéricas do `Weather`."
   ]
  },
  {
   "cell_type": "code",
   "execution_count": null,
   "metadata": {},
   "outputs": [],
   "source": [
    "regression = svm.LinearSVR()\n",
    "regression.fit(X_numeric_train, y_numeric_train)"
   ]
  },
  {
   "cell_type": "markdown",
   "metadata": {},
   "source": [
    "## Treino"
   ]
  },
  {
   "cell_type": "markdown",
   "metadata": {},
   "source": [
    "## Avaliação de resultados"
   ]
  },
  {
   "cell_type": "code",
   "execution_count": null,
   "metadata": {},
   "outputs": [],
   "source": []
  },
  {
   "cell_type": "markdown",
   "metadata": {},
   "source": [
    "## Extras"
   ]
  },
  {
   "cell_type": "markdown",
   "metadata": {},
   "source": [
    "### Baseline classifier"
   ]
  },
  {
   "cell_type": "code",
   "execution_count": null,
   "metadata": {},
   "outputs": [],
   "source": [
    "classification = dummy.DummyClassifier(strategy='most_frequent')\n",
    "classification.fit(X_nominal_train, y_nominal_train)"
   ]
  },
  {
   "cell_type": "code",
   "execution_count": null,
   "metadata": {},
   "outputs": [],
   "source": [
    "pred = classification.predict(X_nominal_test)"
   ]
  },
  {
   "cell_type": "code",
   "execution_count": null,
   "metadata": {},
   "outputs": [],
   "source": [
    "metrics.accuracy_score(y_nominal_test, pred)"
   ]
  },
  {
   "cell_type": "code",
   "execution_count": null,
   "metadata": {},
   "outputs": [],
   "source": []
  }
 ],
 "metadata": {
  "kernelspec": {
   "display_name": "Python 3",
   "language": "python",
   "name": "python3"
  },
  "language_info": {
   "codemirror_mode": {
    "name": "ipython",
    "version": 3
   },
   "file_extension": ".py",
   "mimetype": "text/x-python",
   "name": "python",
   "nbconvert_exporter": "python",
   "pygments_lexer": "ipython3",
   "version": "3.6.7"
  }
 },
 "nbformat": 4,
 "nbformat_minor": 2
}
